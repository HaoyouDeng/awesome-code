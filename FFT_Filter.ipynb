{
 "cells": [
  {
   "cell_type": "code",
   "execution_count": null,
   "metadata": {},
   "outputs": [],
   "source": [
    "import torch\n",
    "def get_mask(low_rate, high_rate):\n",
    "    mask = torch.zeros(224,113)\n",
    "    cy, cx = 224//2, 0\n",
    "    rh, rw = int(high_rate*(224)/2), int(high_rate*(113))\n",
    "\n",
    "    mask[cy-rh:cy+rh, :cx+rw]=1\n",
    "\n",
    "    rh, rw = int(low_rate*(224)/2), int(low_rate*(113))\n",
    "\n",
    "    mask[cy-rh:cy+rh, :cx+rw]=0\n",
    "\n",
    "    return mask"
   ]
  },
  {
   "cell_type": "code",
   "execution_count": null,
   "metadata": {},
   "outputs": [],
   "source": [
    "import torch\n",
    "import torch.nn as nn\n",
    "import torch.fft\n",
    "from PIL import Image\n",
    "import torchvision.transforms as transforms\n",
    "\n",
    "from torchvision.utils import save_image\n",
    "\n",
    "image_path = 'input.jpg'\n",
    "x = Image.open(image_path).convert('RGB')\n",
    "loader = transforms.ToTensor()\n",
    "x = loader(x)\n",
    "print(x.size())\n",
    "\n",
    "\n",
    "fft = torch.fft.rfftn(x, dim=(-2,-1), norm='ortho')\n",
    "print(fft.size())\n",
    "\n",
    "\n",
    "fft = torch.roll(fft,(224//2, 0),dims=(1,2))\n",
    "frequency = torch.abs(fft)\n",
    "\n",
    "print(frequency.size())\n",
    "\n",
    "save_image(tensor=frequency, fp='frequency.jpg')\n",
    "\n",
    "mask = get_mask(0.5, 1)\n",
    "save_image(tensor=mask, fp='mask.jpg')\n",
    "\n",
    "fft_low = torch.mul(mask, fft)\n",
    "print(fft_low.size())\n",
    "frequency_low = torch.abs(fft_low)\n",
    "save_image(tensor=frequency_low, fp='frequency_low.jpg')\n",
    "fft_low = torch.roll(fft_low,(224//2, 0),dims=(1,2))\n",
    "\n",
    "output = torch.fft.irfftn(fft_low, dim=(-2,-1), norm='ortho')\n",
    "save_image(tensor=output, fp='output.jpg')\n"
   ]
  }
 ],
 "metadata": {
  "language_info": {
   "name": "python"
  },
  "orig_nbformat": 4
 },
 "nbformat": 4,
 "nbformat_minor": 2
}
